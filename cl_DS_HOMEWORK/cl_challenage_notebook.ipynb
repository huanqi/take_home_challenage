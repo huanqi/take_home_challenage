{
 "cells": [
  {
   "cell_type": "code",
   "execution_count": 1,
   "metadata": {
    "collapsed": true
   },
   "outputs": [],
   "source": [
    "# import libraries\n",
    "from __future__ import division\n",
    "import pandas as pd\n",
    "import numpy as np\n",
    "import re\n",
    "import os\n",
    "import sys\n",
    "\n",
    "import matplotlib.mlab as mlab\n",
    "import matplotlib.pyplot as plt\n",
    "%matplotlib inline  \n",
    "\n",
    "from sklearn.model_selection import train_test_split\n",
    "from sklearn.linear_model import LogisticRegressionCV\n",
    "from sklearn.metrics import classification_report, confusion_matrix, roc_curve, accuracy_score"
   ]
  },
  {
   "cell_type": "code",
   "execution_count": 2,
   "metadata": {
    "collapsed": true
   },
   "outputs": [],
   "source": [
    "# some hard-coded threshold to data clean-up and standarization\n",
    "\n",
    "rxName_rxNDC_repeating = 10 # num of co-occurances of rxName - rxNDC pair to be considered as valid\n",
    "num_of_drugs_displayed = 3 # num of most common medications for each disease displayed for Q1"
   ]
  },
  {
   "cell_type": "markdown",
   "metadata": {},
   "source": [
    "# Index\n",
    "    * Import data and data cleanup\n",
    "        * meds dataset cleanup\n",
    "        * base_data standardization\n",
    "    * Q1 common used medication by disease\n",
    "    * Q2 indicative medication for each disease\n",
    "    * Q3 logisticregression modeling of highBP disease\n",
    "        * training data preparation\n",
    "        * building model\n",
    "    * Q4 model performance discussion\n",
    "    * Q5 statistical test of gender preference of a specific drug usage for highBP patients\n",
    "    "
   ]
  },
  {
   "cell_type": "markdown",
   "metadata": {},
   "source": [
    "# 1 import data and data cleanup "
   ]
  },
  {
   "cell_type": "code",
   "execution_count": 3,
   "metadata": {
    "collapsed": true
   },
   "outputs": [],
   "source": [
    "data_path = os.path.join(os.getcwd(), 'data')"
   ]
  },
  {
   "cell_type": "code",
   "execution_count": 4,
   "metadata": {
    "collapsed": true
   },
   "outputs": [],
   "source": [
    "# import the data, discard the first column (index), and drop duplicate records\n",
    "base_data = pd.read_csv(os.path.join(data_path, 'meps_base_data.csv'))\n",
    "base_data = base_data.drop(base_data.columns[0], axis = 1).drop_duplicates()\n",
    "meds = pd.read_csv(os.path.join(data_path, 'meps_meds.csv'))\n",
    "meds = meds.drop(meds.columns[0], axis = 1).drop_duplicates()"
   ]
  },
  {
   "cell_type": "markdown",
   "metadata": {},
   "source": [
    "## 1-1 meds dataset cleanup\n",
    "meds dataset contains many malformed records, especially the rxName and rxNDC fields. Due to time limits, I mainly fix two issues. \n",
    "* 1, rxName with comments in parenthesis\n",
    "* 2, for drug with same rxDNC, there are multiple written convention for rxName"
   ]
  },
  {
   "cell_type": "code",
   "execution_count": 5,
   "metadata": {
    "collapsed": true
   },
   "outputs": [],
   "source": [
    "# rxName with comments, some are in parenthesis, I deleted those characters in parenthesis, \n",
    "# I also deleted heading/trailing spaces\n",
    "\n",
    "meds['rxName'] = meds['rxName'].str.replace(r\"\\(.*\\)\", \"\")\n",
    "meds['rxName'] = meds['rxName'].str.replace(r\"\\(.*\", \"\")\n",
    "meds['rxName'] = meds['rxName'].str.replace(r\"\\)\", \"\")\n",
    "meds['rxName'] = meds['rxName'].str.strip()"
   ]
  },
  {
   "cell_type": "code",
   "execution_count": 6,
   "metadata": {
    "collapsed": true
   },
   "outputs": [],
   "source": [
    "# I noticed that there are cases where the rxNDC is the same, but rxName is different probably due to the fact that\n",
    "# it's coming from multiple sources with different recording practice.\n",
    "# clean-up solution: for rxName - rxNDC pair that appeared often (above rxName_rxNDC_repeating = 10), considered as valid pairs\n",
    "# find the most commonly used rxName for that rxNDC, \n",
    "# and use the most commonly used rxName to replace other rxName with same rxNDC code\n",
    "\n",
    "# find rxName - rxNDC pair that appeared more than threshold rxName_rxNDC_repeating = 10\n",
    "valid_meds = meds.groupby(['rxName', 'rxNDC'])['id'].count()[meds.groupby(['rxName', 'rxNDC'])['id'].count() > rxName_rxNDC_repeating].reset_index()\n",
    "valid_meds.rename(columns = {'id': 'count'}, inplace = True)\n",
    "valid_meds = valid_meds[valid_meds['rxNDC'] > 0]\n",
    "\n",
    "# find rxNDC with multiple rxName\n",
    "repeating_ndc = valid_meds['rxNDC'].value_counts()[valid_meds['rxNDC'].value_counts() > 1].index.values\n",
    "\n",
    "# for rxNDC with multiple rxName, find the most commonly used rxName\n",
    "# replace other rxName with same rxNDC with the most commonly used one\n",
    "# build a dict to store it for future usage\n",
    "rxName_fix_dict = {}\n",
    "for ndc in repeating_ndc:\n",
    "    # find the index and the most frequent rxName for each rxNDC\n",
    "    idx = valid_meds.loc[valid_meds['rxNDC'] == ndc, 'count'].idxmax()\n",
    "    most_common_rxName = valid_meds.loc[idx, 'rxName']\n",
    "    \n",
    "    # save it in a dict for future reference\n",
    "    for name in valid_meds.loc[valid_meds['rxNDC'] == ndc, 'rxName']:\n",
    "        rxName_fix_dict[(ndc, name)] = most_common_rxName"
   ]
  },
  {
   "cell_type": "code",
   "execution_count": 7,
   "metadata": {
    "collapsed": true
   },
   "outputs": [],
   "source": [
    "def rxName_cleanup(rxName, rxNDC, rxName_fix_dict = rxName_fix_dict):\n",
    "    '''\n",
    "    function to fix the issue that multiple rxName exsiting for same rxNDC, based on the pre-built dict\n",
    "    '''\n",
    "    try:\n",
    "        return rxName_fix_dict[(rxNDC, rxName)]\n",
    "    \n",
    "    except:\n",
    "        return rxName"
   ]
  },
  {
   "cell_type": "code",
   "execution_count": 8,
   "metadata": {
    "collapsed": true
   },
   "outputs": [],
   "source": [
    "meds['rxName'] = meds.apply(lambda x: rxName_cleanup(x['rxName'], x['rxNDC'], rxName_fix_dict), axis = 1)"
   ]
  },
  {
   "cell_type": "markdown",
   "metadata": {},
   "source": [
    "## 1-2 data standardization"
   ]
  },
  {
   "cell_type": "code",
   "execution_count": 9,
   "metadata": {
    "collapsed": true
   },
   "outputs": [],
   "source": [
    "columns_disease = base_data.columns[7:]\n",
    "\n",
    "# for the diagnose of each disease, convert it into yes/not-yes boolean type\n",
    "for column in columns_disease:\n",
    "    base_data[column] = (base_data[column] == 'Yes').astype('int')"
   ]
  },
  {
   "cell_type": "markdown",
   "metadata": {},
   "source": [
    "# 2 Question 1: what are the most common medications for each disease in the base file\n",
    "\n",
    "There is a strong co-occurances of multiple diseases. It's hard to tell which medication is used for what disease.\n",
    "So I only considered cases where patient is diagnosed with one disease and calculated the most common medications for those patients. There are much less data points when calculated this way, but I think it's more accurate. \n",
    "\n",
    "I also include the code to do calculation without this filter in the patient_with_only_one_disease function, it's commented out."
   ]
  },
  {
   "cell_type": "code",
   "execution_count": 10,
   "metadata": {},
   "outputs": [],
   "source": [
    "# considering the 'real' datasets will be very large, run computation before doing join\n",
    "\n",
    "def patient_with_only_one_disease(disease, columns_disease = columns_disease, base_data = base_data):\n",
    "    '''\n",
    "    return the id for people diggnosed with only one disease and it's the targeted disease\n",
    "    '''\n",
    "    \n",
    "    return base_data[(base_data[columns_disease].sum(axis = 1) == 1) & (base_data[disease] == 1)]['id'].values\n",
    "    #return base_data[(base_data[disease] == 1)]['id'].values"
   ]
  },
  {
   "cell_type": "code",
   "execution_count": 11,
   "metadata": {},
   "outputs": [],
   "source": [
    "def medication_lookup_for_patients(ids, cnt = None, meds = meds):\n",
    "    '''\n",
    "    find the mostly commonly used drug for patients in ids list\n",
    "    Only count the drug once for each patient\n",
    "    '''\n",
    "    \n",
    "    meds = meds[['id', 'rxName']].drop_duplicates()\n",
    "    if cnt is None:\n",
    "        return meds[meds['id'].isin(ids)]['rxName'].value_counts() # return all the drugs being used\n",
    "    else:\n",
    "        return meds[meds['id'].isin(ids)]['rxName'].value_counts()[:cnt] # return the most commonly used drugs"
   ]
  },
  {
   "cell_type": "code",
   "execution_count": 12,
   "metadata": {
    "scrolled": true
   },
   "outputs": [],
   "source": [
    "# loop through all diseases and export top num_of_drugs_displayed = 3 drugs used\n",
    "q1_summary = pd.DataFrame()\n",
    "for disease in columns_disease:    \n",
    "    ids = patient_with_only_one_disease(disease)\n",
    "    most_common_medication = medication_lookup_for_patients(ids, cnt = num_of_drugs_displayed)/len(ids)\n",
    "    combine = [index + ' (' + str(round(value, 2)) + ')' for index, value in most_common_medication.iteritems()]\n",
    "    \n",
    "    q1_summary[disease + ' (' + str(len(ids)) + ' patients)'] = combine"
   ]
  },
  {
   "cell_type": "code",
   "execution_count": 13,
   "metadata": {},
   "outputs": [
    {
     "data": {
      "text/html": [
       "<div>\n",
       "<style>\n",
       "    .dataframe thead tr:only-child th {\n",
       "        text-align: right;\n",
       "    }\n",
       "\n",
       "    .dataframe thead th {\n",
       "        text-align: left;\n",
       "    }\n",
       "\n",
       "    .dataframe tbody tr th {\n",
       "        vertical-align: top;\n",
       "    }\n",
       "</style>\n",
       "<table border=\"1\" class=\"dataframe\">\n",
       "  <thead>\n",
       "    <tr style=\"text-align: right;\">\n",
       "      <th></th>\n",
       "      <th>highBPDiagnosed (6676 patients)</th>\n",
       "      <th>diabetesDiagnosed (833 patients)</th>\n",
       "      <th>chdDiagnosed (80 patients)</th>\n",
       "      <th>miDiagnosed (41 patients)</th>\n",
       "      <th>anginaDiagnosed (42 patients)</th>\n",
       "      <th>strokeDiagnosed (164 patients)</th>\n",
       "      <th>emphysemaDiagnosed (100 patients)</th>\n",
       "      <th>asthmaDiagnosed (3942 patients)</th>\n",
       "      <th>otherHDDiagnosed (817 patients)</th>\n",
       "      <th>heartFailureDiagnosed (19 patients)</th>\n",
       "    </tr>\n",
       "  </thead>\n",
       "  <tbody>\n",
       "    <tr>\n",
       "      <th>0</th>\n",
       "      <td>LISINOPRIL (0.17)</td>\n",
       "      <td>METFORMIN (0.45)</td>\n",
       "      <td>SIMVASTATIN (0.16)</td>\n",
       "      <td>HYDROCO/APAP (0.22)</td>\n",
       "      <td>AZITHROMYCIN (0.19)</td>\n",
       "      <td>SIMVASTATIN (0.15)</td>\n",
       "      <td>HYDROCO/APAP (0.18)</td>\n",
       "      <td>ALBUTEROL (0.22)</td>\n",
       "      <td>AZITHROMYCIN (0.15)</td>\n",
       "      <td>FUROSEMIDE (0.16)</td>\n",
       "    </tr>\n",
       "    <tr>\n",
       "      <th>1</th>\n",
       "      <td>HYDROCHLOROTHIAZIDE (0.12)</td>\n",
       "      <td>LISINOPRIL (0.17)</td>\n",
       "      <td>HYDROCO/APAP (0.11)</td>\n",
       "      <td>SIMVASTATIN (0.15)</td>\n",
       "      <td>AMOXICILLIN (0.1)</td>\n",
       "      <td>AZITHROMYCIN (0.13)</td>\n",
       "      <td>SPIRIVA (0.18)</td>\n",
       "      <td>AMOXICILLIN (0.16)</td>\n",
       "      <td>AMOXICILLIN (0.14)</td>\n",
       "      <td>TRAMADOL HCL (0.11)</td>\n",
       "    </tr>\n",
       "    <tr>\n",
       "      <th>2</th>\n",
       "      <td>SIMVASTATIN (0.11)</td>\n",
       "      <td>SIMVASTATIN (0.16)</td>\n",
       "      <td>METOPROLOL TARTRATE (0.1)</td>\n",
       "      <td>AZITHROMYCIN (0.12)</td>\n",
       "      <td>HYDROCO/APAP (0.1)</td>\n",
       "      <td>AMOXICILLIN (0.1)</td>\n",
       "      <td>AZITHROMYCIN (0.12)</td>\n",
       "      <td>AZITHROMYCIN (0.14)</td>\n",
       "      <td>HYDROCO/APAP (0.11)</td>\n",
       "      <td>AMLODIPINE (0.11)</td>\n",
       "    </tr>\n",
       "  </tbody>\n",
       "</table>\n",
       "</div>"
      ],
      "text/plain": [
       "  highBPDiagnosed (6676 patients) diabetesDiagnosed (833 patients)  \\\n",
       "0               LISINOPRIL (0.17)                 METFORMIN (0.45)   \n",
       "1      HYDROCHLOROTHIAZIDE (0.12)                LISINOPRIL (0.17)   \n",
       "2              SIMVASTATIN (0.11)               SIMVASTATIN (0.16)   \n",
       "\n",
       "  chdDiagnosed (80 patients) miDiagnosed (41 patients)  \\\n",
       "0         SIMVASTATIN (0.16)       HYDROCO/APAP (0.22)   \n",
       "1        HYDROCO/APAP (0.11)        SIMVASTATIN (0.15)   \n",
       "2  METOPROLOL TARTRATE (0.1)       AZITHROMYCIN (0.12)   \n",
       "\n",
       "  anginaDiagnosed (42 patients) strokeDiagnosed (164 patients)  \\\n",
       "0           AZITHROMYCIN (0.19)             SIMVASTATIN (0.15)   \n",
       "1             AMOXICILLIN (0.1)            AZITHROMYCIN (0.13)   \n",
       "2            HYDROCO/APAP (0.1)              AMOXICILLIN (0.1)   \n",
       "\n",
       "  emphysemaDiagnosed (100 patients) asthmaDiagnosed (3942 patients)  \\\n",
       "0               HYDROCO/APAP (0.18)                ALBUTEROL (0.22)   \n",
       "1                    SPIRIVA (0.18)              AMOXICILLIN (0.16)   \n",
       "2               AZITHROMYCIN (0.12)             AZITHROMYCIN (0.14)   \n",
       "\n",
       "  otherHDDiagnosed (817 patients) heartFailureDiagnosed (19 patients)  \n",
       "0             AZITHROMYCIN (0.15)                   FUROSEMIDE (0.16)  \n",
       "1              AMOXICILLIN (0.14)                 TRAMADOL HCL (0.11)  \n",
       "2             HYDROCO/APAP (0.11)                   AMLODIPINE (0.11)  "
      ]
     },
     "execution_count": 13,
     "metadata": {},
     "output_type": "execute_result"
    }
   ],
   "source": [
    "q1_summary"
   ]
  },
  {
   "cell_type": "markdown",
   "metadata": {},
   "source": [
    "## 2 - 1 Q1 summary:\n",
    "### Please see above for the most commonly used medication for each disease"
   ]
  },
  {
   "cell_type": "markdown",
   "metadata": {},
   "source": [
    "# 3 Question 2: what medications are most indicative of each disease?"
   ]
  },
  {
   "cell_type": "markdown",
   "metadata": {},
   "source": [
    "The proxy value is to calculate probability of disease given the medication. I used conditional probability to do it\n",
    "\n",
    "Conditional probabiliity: \n",
    "P(disease | medication) = P(medication | disease) * P(disease) / P(medication)\n",
    "\n",
    "I create three dictionarys to store the probability for future usage. It's probably easier/cleaner to do the calculation inplace without it. The three probabilities on the right of equation is estimated from different subset of the data, which results in P(disease | medication) to be an estimation. It does not fall into range of 0 to 1. But the value represents the relative likelyhood."
   ]
  },
  {
   "cell_type": "code",
   "execution_count": 14,
   "metadata": {
    "collapsed": true
   },
   "outputs": [],
   "source": [
    "# Using the same method as question 1 to calculate p(medication | disease)\n",
    "medication_given_disease = {}\n",
    "\n",
    "for disease in columns_disease:    \n",
    "\n",
    "    ids = patient_with_only_one_disease(disease)\n",
    "    medication_given_disease[disease] = (medication_lookup_for_patients(ids)/len(ids)).to_dict()"
   ]
  },
  {
   "cell_type": "code",
   "execution_count": 15,
   "metadata": {
    "collapsed": true
   },
   "outputs": [],
   "source": [
    "def prob_medication_giving_disease(medication, disease, medication_given_disease = medication_given_disease):\n",
    "    '''\n",
    "    calculate P(medication | disease), following same method as question 1\n",
    "    '''\n",
    "    try:\n",
    "        return medication_given_disease[disease][medication]\n",
    "    \n",
    "    except:\n",
    "        return 0 #return 0 if the medication is not used by anyone in the current dataset"
   ]
  },
  {
   "cell_type": "code",
   "execution_count": 16,
   "metadata": {
    "collapsed": true
   },
   "outputs": [],
   "source": [
    "# calculate the probability of each disease P(disease) with base_data\n",
    "prob_disease = {}\n",
    "\n",
    "for disease in columns_disease:\n",
    "    prob_disease[disease] = len(base_data[base_data[disease] == 1])/len(base_data)"
   ]
  },
  {
   "cell_type": "code",
   "execution_count": 17,
   "metadata": {
    "collapsed": true
   },
   "outputs": [],
   "source": [
    "def find_prob_disease(disease, prob_disease = prob_disease):\n",
    "    '''\n",
    "    Calculate P(disease)\n",
    "    '''\n",
    "    try:\n",
    "        return prob_disease[disease]\n",
    "    except:\n",
    "        print ('not such disease in database')\n",
    "        raise"
   ]
  },
  {
   "cell_type": "code",
   "execution_count": 18,
   "metadata": {
    "collapsed": true
   },
   "outputs": [],
   "source": [
    "# calculate the probability of each medication being used P(medication)\n",
    "tmp1 = meds[['id', 'rxName']].drop_duplicates() # only count the usage of each medication once\n",
    "num_ids = len(tmp1['id'].drop_duplicates())\n",
    "\n",
    "prob_medication = (tmp1['rxName'].value_counts()/num_ids).to_dict()"
   ]
  },
  {
   "cell_type": "code",
   "execution_count": 19,
   "metadata": {
    "collapsed": true
   },
   "outputs": [],
   "source": [
    "def find_prob_meds(meds, prob_medication = prob_medication):\n",
    "    '''\n",
    "    calculate P(medication)\n",
    "    '''\n",
    "    try:\n",
    "        return prob_medication[meds]\n",
    "    except:\n",
    "        print ('not such medication in database')\n",
    "        raise"
   ]
  },
  {
   "cell_type": "code",
   "execution_count": 20,
   "metadata": {
    "collapsed": true
   },
   "outputs": [],
   "source": [
    "# get the all the commonly used medication for each disease\n",
    "common_medications = set()\n",
    "for disease in columns_disease:\n",
    "    ids = patient_with_only_one_disease(disease)\n",
    "    common_medications |= set(medication_lookup_for_patients(ids, 20).index.values )\n",
    "\n",
    "common_medications = list(common_medications)"
   ]
  },
  {
   "cell_type": "code",
   "execution_count": 21,
   "metadata": {
    "collapsed": true
   },
   "outputs": [],
   "source": [
    "def cal_prob_disease_given_medication(disease, medications = common_medications):\n",
    "    '''\n",
    "    calculate the P(disease | medication) using the previously describe conditional probability\n",
    "    '''\n",
    "        \n",
    "    probs = [prob_medication_giving_disease(medication, disease) * find_prob_disease(disease) / find_prob_meds(medication)\n",
    "            for medication in medications]\n",
    "    \n",
    "    # probs = [prob/max(probs) for prob in probs] # to normalized the probability\n",
    "        \n",
    "    result = pd.DataFrame(data = {'medications':medications, 'probability': probs})\n",
    "    result.sort_values(by = 'probability', axis = 0, ascending = False, inplace = True)\n",
    "    return result"
   ]
  },
  {
   "cell_type": "code",
   "execution_count": 22,
   "metadata": {},
   "outputs": [],
   "source": [
    "q2_summary = pd.DataFrame()\n",
    "\n",
    "for disease in columns_disease:\n",
    "    tmp2 = cal_prob_disease_given_medication(disease, common_medications)\n",
    "    tmp3 = tmp2.apply(lambda row: row['medications'] + ' (' + str(round(row['probability'], 3)) + ')', axis = 1)\n",
    "    q2_summary[disease] = tmp3.values"
   ]
  },
  {
   "cell_type": "code",
   "execution_count": 23,
   "metadata": {},
   "outputs": [
    {
     "data": {
      "text/html": [
       "<div>\n",
       "<style>\n",
       "    .dataframe thead tr:only-child th {\n",
       "        text-align: right;\n",
       "    }\n",
       "\n",
       "    .dataframe thead th {\n",
       "        text-align: left;\n",
       "    }\n",
       "\n",
       "    .dataframe tbody tr th {\n",
       "        vertical-align: top;\n",
       "    }\n",
       "</style>\n",
       "<table border=\"1\" class=\"dataframe\">\n",
       "  <thead>\n",
       "    <tr style=\"text-align: right;\">\n",
       "      <th></th>\n",
       "      <th>highBPDiagnosed</th>\n",
       "      <th>diabetesDiagnosed</th>\n",
       "      <th>chdDiagnosed</th>\n",
       "      <th>miDiagnosed</th>\n",
       "      <th>anginaDiagnosed</th>\n",
       "      <th>strokeDiagnosed</th>\n",
       "      <th>emphysemaDiagnosed</th>\n",
       "      <th>asthmaDiagnosed</th>\n",
       "      <th>otherHDDiagnosed</th>\n",
       "      <th>heartFailureDiagnosed</th>\n",
       "    </tr>\n",
       "  </thead>\n",
       "  <tbody>\n",
       "    <tr>\n",
       "      <th>0</th>\n",
       "      <td>LISINOP/HCTZ (0.668)</td>\n",
       "      <td>ACTOS (0.68)</td>\n",
       "      <td>PHENYTOIN SODIUM EXTENDED (0.319)</td>\n",
       "      <td>PANTOPRAZOLE (0.237)</td>\n",
       "      <td>AMERGE (1.841)</td>\n",
       "      <td>PHENYTOIN SODIUM EXTENDED (0.52)</td>\n",
       "      <td>CEROVITE SILVER (1.233)</td>\n",
       "      <td>PULMICORT RESPULES (0.56)</td>\n",
       "      <td>AMERGE (0.322)</td>\n",
       "      <td>CEROVITE SENIOR (15.486)</td>\n",
       "    </tr>\n",
       "    <tr>\n",
       "      <th>1</th>\n",
       "      <td>HYDROCHLOROTHIAZIDE (0.56)</td>\n",
       "      <td>ONETOUCH (0.64)</td>\n",
       "      <td>ZETIA (0.198)</td>\n",
       "      <td>NITROGLYCERIN (0.196)</td>\n",
       "      <td>PRISTIQ (0.449)</td>\n",
       "      <td>PRISTIQ (0.314)</td>\n",
       "      <td>SPIRIVA (0.339)</td>\n",
       "      <td>FLOVENT HFA (0.539)</td>\n",
       "      <td>MORPHINE SULFATE (0.195)</td>\n",
       "      <td>CERTAGEN (3.871)</td>\n",
       "    </tr>\n",
       "    <tr>\n",
       "      <th>2</th>\n",
       "      <td>HYDROCHLOROT (0.531)</td>\n",
       "      <td>METFORMIN (0.591)</td>\n",
       "      <td>FLOMAX (0.172)</td>\n",
       "      <td>METOPROLOL SUCCINATE (0.185)</td>\n",
       "      <td>PREMARIN (0.1)</td>\n",
       "      <td>CHANTIX (0.1)</td>\n",
       "      <td>CHANTIX (0.16)</td>\n",
       "      <td>ADVAIR DISKUS 100/50 (0.497)</td>\n",
       "      <td>WARFARIN SODIUM (0.164)</td>\n",
       "      <td>CEROVITE SILVER (3.097)</td>\n",
       "    </tr>\n",
       "    <tr>\n",
       "      <th>3</th>\n",
       "      <td>AMLODIPINE (0.506)</td>\n",
       "      <td>METFORMIN HCL (0.571)</td>\n",
       "      <td>TOPROL XL (0.151)</td>\n",
       "      <td>PROVENTIL HFA (0.185)</td>\n",
       "      <td>CHANTIX (0.095)</td>\n",
       "      <td>RANITIDINE (0.057)</td>\n",
       "      <td>COMBIVENT (0.14)</td>\n",
       "      <td>PROVENTIL (0.475)</td>\n",
       "      <td>CHANTIX (0.15)</td>\n",
       "      <td>TUSSIN DM (1.106)</td>\n",
       "    </tr>\n",
       "    <tr>\n",
       "      <th>4</th>\n",
       "      <td>DIOVAN (0.505)</td>\n",
       "      <td>GLYBURIDE (0.563)</td>\n",
       "      <td>METOPROLOL SUCCINATE (0.145)</td>\n",
       "      <td>METOPROLOL SUCCINATE ER (0.183)</td>\n",
       "      <td>DIAZEPAM (0.092)</td>\n",
       "      <td>GABAPENTIN (0.055)</td>\n",
       "      <td>FLOVENT HFA (0.108)</td>\n",
       "      <td>ALBUTEROL (0.462)</td>\n",
       "      <td>DIAZEPAM (0.12)</td>\n",
       "      <td>OYSCO 500 (0.704)</td>\n",
       "    </tr>\n",
       "  </tbody>\n",
       "</table>\n",
       "</div>"
      ],
      "text/plain": [
       "              highBPDiagnosed      diabetesDiagnosed  \\\n",
       "0        LISINOP/HCTZ (0.668)           ACTOS (0.68)   \n",
       "1  HYDROCHLOROTHIAZIDE (0.56)        ONETOUCH (0.64)   \n",
       "2        HYDROCHLOROT (0.531)      METFORMIN (0.591)   \n",
       "3          AMLODIPINE (0.506)  METFORMIN HCL (0.571)   \n",
       "4              DIOVAN (0.505)      GLYBURIDE (0.563)   \n",
       "\n",
       "                        chdDiagnosed                      miDiagnosed  \\\n",
       "0  PHENYTOIN SODIUM EXTENDED (0.319)             PANTOPRAZOLE (0.237)   \n",
       "1                      ZETIA (0.198)            NITROGLYCERIN (0.196)   \n",
       "2                     FLOMAX (0.172)     METOPROLOL SUCCINATE (0.185)   \n",
       "3                  TOPROL XL (0.151)            PROVENTIL HFA (0.185)   \n",
       "4       METOPROLOL SUCCINATE (0.145)  METOPROLOL SUCCINATE ER (0.183)   \n",
       "\n",
       "    anginaDiagnosed                   strokeDiagnosed  \\\n",
       "0    AMERGE (1.841)  PHENYTOIN SODIUM EXTENDED (0.52)   \n",
       "1   PRISTIQ (0.449)                   PRISTIQ (0.314)   \n",
       "2    PREMARIN (0.1)                     CHANTIX (0.1)   \n",
       "3   CHANTIX (0.095)                RANITIDINE (0.057)   \n",
       "4  DIAZEPAM (0.092)                GABAPENTIN (0.055)   \n",
       "\n",
       "        emphysemaDiagnosed               asthmaDiagnosed  \\\n",
       "0  CEROVITE SILVER (1.233)     PULMICORT RESPULES (0.56)   \n",
       "1          SPIRIVA (0.339)           FLOVENT HFA (0.539)   \n",
       "2           CHANTIX (0.16)  ADVAIR DISKUS 100/50 (0.497)   \n",
       "3         COMBIVENT (0.14)             PROVENTIL (0.475)   \n",
       "4      FLOVENT HFA (0.108)             ALBUTEROL (0.462)   \n",
       "\n",
       "           otherHDDiagnosed     heartFailureDiagnosed  \n",
       "0            AMERGE (0.322)  CEROVITE SENIOR (15.486)  \n",
       "1  MORPHINE SULFATE (0.195)          CERTAGEN (3.871)  \n",
       "2   WARFARIN SODIUM (0.164)   CEROVITE SILVER (3.097)  \n",
       "3            CHANTIX (0.15)         TUSSIN DM (1.106)  \n",
       "4           DIAZEPAM (0.12)         OYSCO 500 (0.704)  "
      ]
     },
     "execution_count": 23,
     "metadata": {},
     "output_type": "execute_result"
    }
   ],
   "source": [
    "# note that the probability is relative (not in range of 0 - 1)\n",
    "q2_summary.head(5)"
   ]
  },
  {
   "cell_type": "markdown",
   "metadata": {},
   "source": [
    "## 3 - 1 Q2 summary:\n",
    "### Please see above for the most indicative medication for each disease"
   ]
  },
  {
   "cell_type": "markdown",
   "metadata": {},
   "source": [
    "# 4 Question 3, choose one of the diseases and build a model to infer whether that disease is present from the medications\n",
    "\n",
    "For the purpose of easy interpretation, I choose a linear model to predict presence of disease.\n",
    "Due to time limitations, I didn't consider other models. If time permits, I would set up an evaluation dataset to do a model selection or use ensembel methods. Also time can be spent on tunning hyperparamters to improve the model performance.\n",
    "\n",
    "I choose 'highBPDiagnosed' as the target disease to do the demo. The dataset is pretty imbalanced with 20% of people in the dataset are diagnosed with highBP. Accuracy is not the best metrics to evaluate the model performance. AUC is used instead. Also the threshold of decision p=0.5 is tuned due to fact that in reality people may have weights over precision or recall rate, especially it's a disease prediction model."
   ]
  },
  {
   "cell_type": "markdown",
   "metadata": {},
   "source": [
    "## 4 - 1 training data preparation"
   ]
  },
  {
   "cell_type": "code",
   "execution_count": 24,
   "metadata": {
    "collapsed": true
   },
   "outputs": [],
   "source": [
    "target_disease = 'highBPDiagnosed'"
   ]
  },
  {
   "cell_type": "code",
   "execution_count": 25,
   "metadata": {
    "collapsed": true
   },
   "outputs": [],
   "source": [
    "meds_training = meds.copy()"
   ]
  },
  {
   "cell_type": "code",
   "execution_count": 26,
   "metadata": {
    "scrolled": true
   },
   "outputs": [],
   "source": [
    "# There are thousands of medications in the dataset. \n",
    "# To build a simpler model, I categorized the medication used by no more than 10 persons as uncommon_drug. \n",
    "# Also there are many invalid drugs (or with redundant information), I labeled drug start with '-' (often as negative num)\n",
    "# as unknown_drug. If time permits, more data cleanup can be done.\n",
    "\n",
    "meds_person_unique = meds_training[['id', 'rxName']].drop_duplicates()\n",
    "\n",
    "valid_rxName = meds_person_unique['rxName'].value_counts()[meds_person_unique['rxName'].value_counts() > 10].index.values\n",
    "meds_training.loc[~meds_training['rxName'].isin(valid_rxName), 'rxName'] = 'uncommon_drug'\n",
    "\n",
    "meds_training['rxName'] = meds_training['rxName'].apply(lambda x: 'unknown_drug' if x[0] == '-' else x)"
   ]
  },
  {
   "cell_type": "code",
   "execution_count": 27,
   "metadata": {
    "collapsed": true
   },
   "outputs": [],
   "source": [
    "# pivot the meds_training table\n",
    "meds_training_pivot = pd.crosstab(index = meds_training['id'], columns = meds_training['rxName'], values = meds_training['rxQuantity'], aggfunc = sum)\n",
    "\n",
    "meds_training_pivot.reset_index(inplace = True)"
   ]
  },
  {
   "cell_type": "code",
   "execution_count": 28,
   "metadata": {},
   "outputs": [],
   "source": [
    "# join the base_data with the meds_training_pivot data\n",
    "all_data = base_data[['id', 'panel', 'pooledWeight', 'age', 'sex', 'race', 'married', target_disease]].merge(\n",
    "                meds_training_pivot, how = 'left', left_on = 'id', right_on = 'id')\n",
    "\n",
    "all_data.drop(['id'], axis = 1, inplace = True)"
   ]
  },
  {
   "cell_type": "code",
   "execution_count": 29,
   "metadata": {
    "collapsed": true
   },
   "outputs": [],
   "source": [
    "# outlier cleanup for age, fill people with age = -1 with the mean value\n",
    "\n",
    "mean_age = round(all_data[all_data['age'] >=0]['age'].mean(), 0)\n",
    "all_data['age'] = all_data['age'].apply(lambda x: mean_age if x < 0 else x )"
   ]
  },
  {
   "cell_type": "code",
   "execution_count": 30,
   "metadata": {
    "collapsed": true
   },
   "outputs": [],
   "source": [
    "# outlier cleanup for pooledweight, fill people with extreme pooledWeight with median value\n",
    "\n",
    "median_pooledWeight = all_data['pooledWeight'].median()\n",
    "q1_pooledWeight = all_data['pooledWeight'].quantile(0.25)\n",
    "q3_pooledWeight = all_data['pooledWeight'].quantile(0.75)\n",
    "all_data['pooledWeight'] = all_data['pooledWeight']\\\n",
    "            .apply(lambda x: median_pooledWeight if x > q3_pooledWeight + 1.5*(q3_pooledWeight - q1_pooledWeight) else x)"
   ]
  },
  {
   "cell_type": "code",
   "execution_count": 31,
   "metadata": {
    "collapsed": true
   },
   "outputs": [],
   "source": [
    "# fill nan value with 0\n",
    "all_data = all_data.fillna(0)"
   ]
  },
  {
   "cell_type": "code",
   "execution_count": 32,
   "metadata": {
    "collapsed": true
   },
   "outputs": [],
   "source": [
    "X = pd.get_dummies(all_data).drop([target_disease], axis = 1)\n",
    "Y = all_data[target_disease]\n",
    "\n",
    "Xtrain, Xtest, Ytrain, Ytest = train_test_split(X, Y, test_size = 0.3)"
   ]
  },
  {
   "cell_type": "markdown",
   "metadata": {},
   "source": [
    "## 4 - 2 Train a linear model"
   ]
  },
  {
   "cell_type": "code",
   "execution_count": 33,
   "metadata": {
    "collapsed": true
   },
   "outputs": [],
   "source": [
    "seed = 2018"
   ]
  },
  {
   "cell_type": "code",
   "execution_count": 34,
   "metadata": {
    "collapsed": true
   },
   "outputs": [],
   "source": [
    "Xtrain_only,Xvalid,Ytrain_only,Yvalid = train_test_split(Xtrain,Ytrain,test_size=0.2,random_state=seed)"
   ]
  },
  {
   "cell_type": "code",
   "execution_count": 35,
   "metadata": {
    "collapsed": true
   },
   "outputs": [],
   "source": [
    "# train on training set\n",
    "lrcv_train_only = LogisticRegressionCV(scoring = 'roc_auc', penalty = 'l2', max_iter=1000, n_jobs = 1)\n",
    "lrcv_train_only.fit(Xtrain_only, Ytrain_only)\n",
    "\n",
    "# predict on validation set\n",
    "yvalid_probas = lrcv_train_only.predict_proba(Xvalid)[:, 1]"
   ]
  },
  {
   "cell_type": "code",
   "execution_count": 36,
   "metadata": {
    "collapsed": true
   },
   "outputs": [],
   "source": [
    "roc = pd.DataFrame()\n",
    "roc['FPR'],roc['TPR'],roc['Threshold'] = roc_curve(Yvalid,yvalid_probas)"
   ]
  },
  {
   "cell_type": "code",
   "execution_count": 37,
   "metadata": {},
   "outputs": [
    {
     "data": {
      "text/plain": [
       "<matplotlib.legend.Legend at 0x10751dc90>"
      ]
     },
     "execution_count": 37,
     "metadata": {},
     "output_type": "execute_result"
    },
    {
     "data": {
      "image/png": "[encoded data removed]",
      "text/plain": [
       "<matplotlib.figure.Figure at 0x113a80650>"
      ]
     },
     "metadata": {},
     "output_type": "display_data"
    }
   ],
   "source": [
    "# plot ROC\n",
    "plt.plot(roc.FPR,roc.TPR,label='ROC')\n",
    "plt.xlabel(\"FPR\")\n",
    "plt.ylabel('TPR')\n",
    "\n",
    "ticks = np.linspace(0,1,11)\n",
    "plt.yticks(ticks)\n",
    "plt.xticks(ticks)\n",
    "\n",
    "# plot best thresholds\n",
    "best_cutoffs = roc.loc[ (roc.Threshold > 0.30) & (roc.Threshold < 0.31),:]\n",
    "default_cutoffs = roc.loc[ (roc.Threshold > 0.50) & (roc.Threshold < 0.51),:]\n",
    "plt.scatter(best_cutoffs.FPR,best_cutoffs.TPR,c='r',s=50,label='best cutoff')\n",
    "plt.scatter(default_cutoffs.FPR,default_cutoffs.TPR,c='k',s=50,label='default cutoff')\n",
    "\n",
    "\n",
    "plt.rc('figure',figsize=(10,5))\n",
    "plt.legend(loc='best')"
   ]
  },
  {
   "cell_type": "code",
   "execution_count": 38,
   "metadata": {
    "collapsed": true
   },
   "outputs": [],
   "source": [
    "# retrain with all the training data"
   ]
  },
  {
   "cell_type": "code",
   "execution_count": 39,
   "metadata": {},
   "outputs": [
    {
     "data": {
      "text/plain": [
       "LogisticRegressionCV(Cs=10, class_weight=None, cv=None, dual=False,\n",
       "           fit_intercept=True, intercept_scaling=1.0, max_iter=1000,\n",
       "           multi_class='ovr', n_jobs=1, penalty='l2', random_state=None,\n",
       "           refit=True, scoring='roc_auc', solver='lbfgs', tol=0.0001,\n",
       "           verbose=0)"
      ]
     },
     "execution_count": 39,
     "metadata": {},
     "output_type": "execute_result"
    }
   ],
   "source": [
    "lrcv = LogisticRegressionCV(scoring = 'roc_auc', penalty = 'l2', max_iter=1000, n_jobs = 1)\n",
    "lrcv.fit(Xtrain, Ytrain)"
   ]
  },
  {
   "cell_type": "markdown",
   "metadata": {},
   "source": [
    "# 5 Question 4, Demonstrate that the end user should be confident in the result\n",
    "\n",
    "The performance of the trained logisticregression model is benchmarked with test data."
   ]
  },
  {
   "cell_type": "code",
   "execution_count": 40,
   "metadata": {
    "collapsed": true
   },
   "outputs": [],
   "source": [
    "# pick the threshold 0.3 based on the discussion in previous section\n",
    "proba_threshold = 0.3"
   ]
  },
  {
   "cell_type": "code",
   "execution_count": 41,
   "metadata": {},
   "outputs": [],
   "source": [
    "ytest_pred_proba = lrcv.predict_proba(Xtest)[:, 1]\n",
    "ytest_pred = (ytest_pred_proba > proba_threshold).astype(int)"
   ]
  },
  {
   "cell_type": "code",
   "execution_count": 42,
   "metadata": {},
   "outputs": [
    {
     "name": "stdout",
     "output_type": "stream",
     "text": [
      "test accuracy:  0.897977991001\n"
     ]
    }
   ],
   "source": [
    "print 'test accuracy: ', accuracy_score(Ytest, ytest_pred)"
   ]
  },
  {
   "cell_type": "code",
   "execution_count": 43,
   "metadata": {},
   "outputs": [
    {
     "name": "stdout",
     "output_type": "stream",
     "text": [
      "             precision    recall  f1-score   support\n",
      "\n",
      "          0       0.93      0.94      0.94     14360\n",
      "          1       0.79      0.74      0.76      4087\n",
      "\n",
      "avg / total       0.90      0.90      0.90     18447\n",
      "\n"
     ]
    }
   ],
   "source": [
    "print classification_report(Ytest, ytest_pred)"
   ]
  },
  {
   "cell_type": "markdown",
   "metadata": {},
   "source": [
    "## 5-  1 Q4 summary: \n",
    "* 1 The accuracy for the trained model is 0.89\n",
    "* 2 The precision and recall rate is 0.79 and 0.74 for patients with highBP, respectively. Overall it has a pretty balanced prediction for highBP patients."
   ]
  },
  {
   "cell_type": "markdown",
   "metadata": {},
   "source": [
    "# 6 Question 5: can you find any evidence that for the disease you've modeled, a certain drug is preferred by a certain demographic subgroup?\n",
    "\n",
    "To narrow down the question, I decided to look into one disease and one drug, to check whether there is a gender preferenece for simplest reason. \n",
    "\n",
    "disease: highBPDiagnosed  \n",
    "medication: 'HYDROCHLOROTHIAZIDE'   # second indicative drug based on the results in Q2"
   ]
  },
  {
   "cell_type": "markdown",
   "metadata": {},
   "source": [
    "p1: probability of using HYDROCHLOROTHIAZIDE for male patients diagnosed with highBP    \n",
    "P2: probability of using HYDROCHLOROTHIAZIDE for female patients diagnosed with highBP\n",
    "\n",
    "## Null hypothesis: p1 = p2\n",
    "    * For patients diagnosed with highBP, there is no preference towards usage of medication HYDROCHLOROTHIAZIDE between female and male patients.\n",
    "    \n",
    "    \n",
    "    \n",
    "## Alternative hypothesis: p1 <> p2\n",
    "\n",
    "significance level: 0.05"
   ]
  },
  {
   "cell_type": "code",
   "execution_count": 44,
   "metadata": {
    "collapsed": true
   },
   "outputs": [],
   "source": [
    "target_drug = 'HYDROCHLOROTHIAZIDE'"
   ]
  },
  {
   "cell_type": "code",
   "execution_count": 45,
   "metadata": {
    "collapsed": true
   },
   "outputs": [],
   "source": [
    "drug_preference_data = all_data[(all_data[target_disease] == 1)][['pooledWeight', 'age', 'sex', 'race', 'married', target_drug]]"
   ]
  },
  {
   "cell_type": "code",
   "execution_count": 46,
   "metadata": {
    "collapsed": true
   },
   "outputs": [],
   "source": [
    "drug_preference_data['target_drug_used'] = (drug_preference_data[target_drug] > 0).astype(int)"
   ]
  },
  {
   "cell_type": "code",
   "execution_count": 47,
   "metadata": {},
   "outputs": [
    {
     "data": {
      "text/html": [
       "<div>\n",
       "<style>\n",
       "    .dataframe thead tr:only-child th {\n",
       "        text-align: right;\n",
       "    }\n",
       "\n",
       "    .dataframe thead th {\n",
       "        text-align: left;\n",
       "    }\n",
       "\n",
       "    .dataframe tbody tr th {\n",
       "        vertical-align: top;\n",
       "    }\n",
       "</style>\n",
       "<table border=\"1\" class=\"dataframe\">\n",
       "  <thead>\n",
       "    <tr style=\"text-align: right;\">\n",
       "      <th>target_drug_used</th>\n",
       "      <th>0</th>\n",
       "      <th>1</th>\n",
       "    </tr>\n",
       "    <tr>\n",
       "      <th>sex</th>\n",
       "      <th></th>\n",
       "      <th></th>\n",
       "    </tr>\n",
       "  </thead>\n",
       "  <tbody>\n",
       "    <tr>\n",
       "      <th>Female</th>\n",
       "      <td>6302</td>\n",
       "      <td>1065</td>\n",
       "    </tr>\n",
       "    <tr>\n",
       "      <th>Male</th>\n",
       "      <td>5574</td>\n",
       "      <td>696</td>\n",
       "    </tr>\n",
       "  </tbody>\n",
       "</table>\n",
       "</div>"
      ],
      "text/plain": [
       "target_drug_used     0     1\n",
       "sex                         \n",
       "Female            6302  1065\n",
       "Male              5574   696"
      ]
     },
     "execution_count": 47,
     "metadata": {},
     "output_type": "execute_result"
    }
   ],
   "source": [
    "drug_preference_gender = pd.crosstab(index = drug_preference_data['sex'], columns= drug_preference_data['target_drug_used'])\n",
    "drug_preference_gender"
   ]
  },
  {
   "cell_type": "markdown",
   "metadata": {},
   "source": [
    "## 6 - 1\n",
    "### Chi square statistical test is performed for category - category variables."
   ]
  },
  {
   "cell_type": "code",
   "execution_count": 48,
   "metadata": {},
   "outputs": [
    {
     "name": "stdout",
     "output_type": "stream",
     "text": [
      "6.69101894442e-09\n"
     ]
    }
   ],
   "source": [
    "from scipy.stats import chi2_contingency\n",
    "\n",
    "def chisq_of_df_cols(df, c1, c2):\n",
    "    groupsizes = df.groupby([c1, c2]).size()\n",
    "    ctsum = groupsizes.unstack(c1)\n",
    "    # fillna(0) is necessary to remove any NAs which will cause exceptions\n",
    "    rchi2, p, dof, expected = (chi2_contingency(ctsum.fillna(0)))\n",
    "    return p\n",
    "\n",
    "p_value = chisq_of_df_cols(drug_preference_data, 'target_drug_used', 'sex')\n",
    "print p_value"
   ]
  },
  {
   "cell_type": "markdown",
   "metadata": {},
   "source": [
    "## 6 - 2\n",
    "### Statistical test result: the p_value is much smaller than the significance level (0.05), we cannot accept the null hypothesis."
   ]
  },
  {
   "cell_type": "code",
   "execution_count": 49,
   "metadata": {},
   "outputs": [],
   "source": [
    "# if we model the choice of HYDROCHLOROTHIAZIDE usage for highBP patients as a binomial process\n",
    "# we can calculate the usage_ratio and its standard deviation following a binomial distribution\n",
    "drug_uage_ratio_female = 1065/(6302 + 1065)\n",
    "drug_usage_ratio_male = 696/(5574 + 696)\n",
    "drug_uage_ratio_female_std = np.sqrt(1065/(6302 + 1065)/(6302 + 1065))\n",
    "drug_uage_ratio_female_std = np.sqrt(696/(5574 + 696)/(5574 + 696))"
   ]
  },
  {
   "cell_type": "code",
   "execution_count": 50,
   "metadata": {},
   "outputs": [
    {
     "data": {
      "image/png": "[encoded data removed]",
      "text/plain": [
       "<matplotlib.figure.Figure at 0x113502cd0>"
      ]
     },
     "metadata": {},
     "output_type": "display_data"
    }
   ],
   "source": [
    "drug_used_ratio = (drug_uage_ratio_female, drug_usage_ratio_male)\n",
    "drug_used_ratio_std = (drug_uage_ratio_female_std, drug_uage_ratio_female_std)\n",
    "ind = (1, 2)    # the x locations for the groups\n",
    "\n",
    "p1 = plt.bar(ind, drug_used_ratio, yerr=drug_used_ratio_std)\n",
    "\n",
    "plt.ylabel('drug used percentage')\n",
    "plt.title('%s usage comparison by gender' % target_drug)\n",
    "plt.xticks(ind, ('drug usage ratio by female', 'drug usage ratio by male'))\n",
    "\n",
    "plt.show()"
   ]
  },
  {
   "cell_type": "markdown",
   "metadata": {
    "collapsed": true
   },
   "source": [
    "## 6 - 3\n",
    "### Q5 Conclusion: From the graph we can, there is a higher probability that female highBP patients would use HYDROCHLOROTHIAZIDE compared with male highBP patients"
   ]
  },
  {
   "cell_type": "code",
   "execution_count": null,
   "metadata": {
    "collapsed": true
   },
   "outputs": [],
   "source": []
  }
 ],
 "metadata": {
  "kernelspec": {
   "display_name": "Python 2",
   "language": "python",
   "name": "python2"
  },
  "language_info": {
   "codemirror_mode": {
    "name": "ipython",
    "version": 2
   },
   "file_extension": ".py",
   "mimetype": "text/x-python",
   "name": "python",
   "nbconvert_exporter": "python",
   "pygments_lexer": "ipython2",
   "version": "2.7.13"
  }
 },
 "nbformat": 4,
 "nbformat_minor": 1
}
